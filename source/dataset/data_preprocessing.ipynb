{
 "cells": [
  {
   "cell_type": "code",
   "execution_count": 50,
   "metadata": {},
   "outputs": [],
   "source": [
    "import os\n",
    "import glob2\n",
    "import json\n",
    "from PIL import Image\n",
    "import numpy as np\n",
    "import shutil \n",
    "import glob2\n",
    "import cv2"
   ]
  },
  {
   "cell_type": "code",
   "execution_count": 51,
   "metadata": {},
   "outputs": [],
   "source": [
    "imgPathAll = \"/dataset_sub/dataset2/59_Traffic_Police_Hand_Pattern_Image/01_Data/1_Training/train/\""
   ]
  },
  {
   "cell_type": "code",
   "execution_count": 52,
   "metadata": {},
   "outputs": [],
   "source": [
    "folder_name = '15_11'"
   ]
  },
  {
   "cell_type": "code",
   "execution_count": 53,
   "metadata": {},
   "outputs": [
    {
     "data": {
      "text/plain": [
       "172"
      ]
     },
     "execution_count": 53,
     "metadata": {},
     "output_type": "execute_result"
    }
   ],
   "source": [
    "folderPath = os.path.join(imgPathAll, folder_name)\n",
    "PathImgs = sorted(glob2.glob(folderPath + \"/*.jpg\"))\n",
    "jsonData = folderPath + '/' + folder_name + '.json'\n",
    "with open(jsonData, \"rb\") as f:\n",
    "    js = json.load(f)  \n",
    "    \n",
    "len(PathImgs)\n",
    "#len(js)"
   ]
  },
  {
   "cell_type": "code",
   "execution_count": 54,
   "metadata": {},
   "outputs": [],
   "source": [
    "def make_crop(js, idx, img_path=None):\n",
    "    x_list = []\n",
    "    y_list = []\n",
    "    color = []\n",
    "    dat = js.get('sequence').get('2d_pos')[idx]\n",
    "    bbox = js.get('sequence').get('bounding_box')[idx]\n",
    "    x1, y1, x2, y2 = int(float(bbox[0])), int(float(bbox[1])), int(float(bbox[2])), int(float(bbox[3]))\n",
    "    for i in range(len(dat)):\n",
    "        if i % 3 == 0:\n",
    "            x_list.append(int(float(dat[i]) - x1))\n",
    "        elif i % 3 == 1:\n",
    "            y_list.append(int(float(dat[i]) - y1))\n",
    "        else:\n",
    "            if int(dat[i]) == 0:\n",
    "                color.append((0, 0, 255))\n",
    "            else:\n",
    "                color.append((255, 0, 0))\n",
    "    \n",
    "    pil_image = Image.open(img_path)\n",
    "    pil_image_ = pil_image.crop((x1, y1, x2, y2))\n",
    "    #print(img_path, x1, y1, x2, y2)\n",
    "    #if img_path is None:\n",
    "    _img = np.zeros((int(y2-y1), int(x2-x1), 3), np.uint8) + 0\n",
    "    for j in range(len(x_list)):\n",
    "       circled_img = cv2.circle(_img, (x_list[j],y_list[j]), 2, color[j], 5)\n",
    "    #circled_img = None\n",
    "    \n",
    "    #return pil_image_, circled_img, [x_list,y_list]\n",
    "    return pil_image_, Image.fromarray(circled_img), [x_list,y_list]"
   ]
  },
  {
   "cell_type": "code",
   "execution_count": 58,
   "metadata": {},
   "outputs": [
    {
     "name": "stdout",
     "output_type": "stream",
     "text": [
      "133 168 133 168\n"
     ]
    },
    {
     "ename": "ValueError",
     "evalue": "bad transparency mask",
     "output_type": "error",
     "traceback": [
      "\u001b[0;31m---------------------------------------------------------------------------\u001b[0m",
      "\u001b[0;31mValueError\u001b[0m                                Traceback (most recent call last)",
      "\u001b[1;32m/workspace/12_TrafficPolice_Action_Prediction/TrafficPoliceActionRecognition_Lightweigh/source/dataset/data_preprocessing.ipynb Cell 6\u001b[0m in \u001b[0;36m8\n\u001b[1;32m      <a href='vscode-notebook-cell://attached-container%2B7b22636f6e7461696e65724e616d65223a222f746f72636832325f323330383130227d/workspace/12_TrafficPolice_Action_Prediction/TrafficPoliceActionRecognition_Lightweigh/source/dataset/data_preprocessing.ipynb#W4sdnNjb2RlLXJlbW90ZQ%3D%3D?line=4'>5</a>\u001b[0m \u001b[39mif\u001b[39;00m idx \u001b[39m<\u001b[39m \u001b[39m5\u001b[39m:\n\u001b[1;32m      <a href='vscode-notebook-cell://attached-container%2B7b22636f6e7461696e65724e616d65223a222f746f72636832325f323330383130227d/workspace/12_TrafficPolice_Action_Prediction/TrafficPoliceActionRecognition_Lightweigh/source/dataset/data_preprocessing.ipynb#W4sdnNjb2RlLXJlbW90ZQ%3D%3D?line=5'>6</a>\u001b[0m     \u001b[39m#display(circled_img)\u001b[39;00m\n\u001b[1;32m      <a href='vscode-notebook-cell://attached-container%2B7b22636f6e7461696e65724e616d65223a222f746f72636832325f323330383130227d/workspace/12_TrafficPolice_Action_Prediction/TrafficPoliceActionRecognition_Lightweigh/source/dataset/data_preprocessing.ipynb#W4sdnNjb2RlLXJlbW90ZQ%3D%3D?line=6'>7</a>\u001b[0m     \u001b[39mprint\u001b[39m(pil_image_\u001b[39m.\u001b[39mwidth, pil_image_\u001b[39m.\u001b[39mheight, circled_img\u001b[39m.\u001b[39mwidth, circled_img\u001b[39m.\u001b[39mheight)\n\u001b[0;32m----> <a href='vscode-notebook-cell://attached-container%2B7b22636f6e7461696e65724e616d65223a222f746f72636832325f323330383130227d/workspace/12_TrafficPolice_Action_Prediction/TrafficPoliceActionRecognition_Lightweigh/source/dataset/data_preprocessing.ipynb#W4sdnNjb2RlLXJlbW90ZQ%3D%3D?line=7'>8</a>\u001b[0m     pil_image_\u001b[39m.\u001b[39;49mpaste(circled_img, (\u001b[39m0\u001b[39;49m,\u001b[39m0\u001b[39;49m), mask\u001b[39m=\u001b[39;49mcircled_img)\n\u001b[1;32m      <a href='vscode-notebook-cell://attached-container%2B7b22636f6e7461696e65724e616d65223a222f746f72636832325f323330383130227d/workspace/12_TrafficPolice_Action_Prediction/TrafficPoliceActionRecognition_Lightweigh/source/dataset/data_preprocessing.ipynb#W4sdnNjb2RlLXJlbW90ZQ%3D%3D?line=8'>9</a>\u001b[0m     display(pil_image_)\n\u001b[1;32m     <a href='vscode-notebook-cell://attached-container%2B7b22636f6e7461696e65724e616d65223a222f746f72636832325f323330383130227d/workspace/12_TrafficPolice_Action_Prediction/TrafficPoliceActionRecognition_Lightweigh/source/dataset/data_preprocessing.ipynb#W4sdnNjb2RlLXJlbW90ZQ%3D%3D?line=9'>10</a>\u001b[0m     \u001b[39m#display(pil_image_.paste(circled_img, (0,0), mask = circled_img))\u001b[39;00m\n",
      "File \u001b[0;32m/usr/local/lib/python3.8/dist-packages/PIL/Image.py:1557\u001b[0m, in \u001b[0;36mImage.paste\u001b[0;34m(self, im, box, mask)\u001b[0m\n\u001b[1;32m   1555\u001b[0m \u001b[39mif\u001b[39;00m mask:\n\u001b[1;32m   1556\u001b[0m     mask\u001b[39m.\u001b[39mload()\n\u001b[0;32m-> 1557\u001b[0m     \u001b[39mself\u001b[39;49m\u001b[39m.\u001b[39;49mim\u001b[39m.\u001b[39;49mpaste(im, box, mask\u001b[39m.\u001b[39;49mim)\n\u001b[1;32m   1558\u001b[0m \u001b[39melse\u001b[39;00m:\n\u001b[1;32m   1559\u001b[0m     \u001b[39mself\u001b[39m\u001b[39m.\u001b[39mim\u001b[39m.\u001b[39mpaste(im, box)\n",
      "\u001b[0;31mValueError\u001b[0m: bad transparency mask"
     ]
    }
   ],
   "source": [
    "for idx, img in enumerate(PathImgs):\n",
    "    _image = Image.open(img)\n",
    "    pil_image_, circled_img, pos2d = make_crop(js, idx, img)\n",
    "    \n",
    "    if idx < 5:\n",
    "        #display(circled_img)\n",
    "        print(pil_image_.width, pil_image_.height, circled_img.width, circled_img.height)\n",
    "        pil_image_ = pil_image_.covnert(\"RGBA\")\n",
    "        circled_img = circled_img.covnert(\"RGBA\")\n",
    "        pil_image_.paste(circled_img, (0,0), mask=circled_img)\n",
    "        display(pil_image_)\n",
    "        #display(pil_image_.paste(circled_img, (0,0), mask = circled_img))\n",
    "    \n",
    "    "
   ]
  },
  {
   "cell_type": "code",
   "execution_count": null,
   "metadata": {},
   "outputs": [],
   "source": []
  }
 ],
 "metadata": {
  "kernelspec": {
   "display_name": "Python 3",
   "language": "python",
   "name": "python3"
  },
  "language_info": {
   "codemirror_mode": {
    "name": "ipython",
    "version": 3
   },
   "file_extension": ".py",
   "mimetype": "text/x-python",
   "name": "python",
   "nbconvert_exporter": "python",
   "pygments_lexer": "ipython3",
   "version": "3.8.10"
  },
  "orig_nbformat": 4
 },
 "nbformat": 4,
 "nbformat_minor": 2
}
